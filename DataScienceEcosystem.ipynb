{
 "cells": [
  {
   "cell_type": "markdown",
   "id": "a575d9c8-6f54-4675-b02d-e59d3ffded7c",
   "metadata": {},
   "source": [
    "# Data Science Tools and Ecosystem"
   ]
  },
  {
   "cell_type": "markdown",
   "id": "1f89b781-7d6b-4059-a983-263598252f2a",
   "metadata": {
    "tags": []
   },
   "source": [
    "In this notebook, Data Science Tools and Ecosystem are summarized."
   ]
  },
  {
   "cell_type": "markdown",
   "id": "c7d70d18-4f99-4ebf-937d-931f5f72542f",
   "metadata": {},
   "source": [
    "**Objectives:**"
   ]
  },
  {
   "cell_type": "markdown",
   "id": "0d4f0a51-4e96-4028-b770-7d896ad34dd1",
   "metadata": {},
   "source": [
    "- Data Science Tools\n",
    "- Languages of Data Science\n",
    "- Libraries, APIs\n",
    "- Jupyter Lab and Notebooks\n",
    "- RStudio\n",
    "- Git and GitHub"
   ]
  },
  {
   "cell_type": "markdown",
   "id": "1034805f-df1f-4066-9e4e-807b5d658f1c",
   "metadata": {},
   "source": [
    "Some of the popular languages that Data Scientists use are:"
   ]
  },
  {
   "cell_type": "markdown",
   "id": "bc47fac0-3878-43fd-bb7b-9b8605ea654a",
   "metadata": {},
   "source": [
    "1. Python\n",
    "2. R\n",
    "3. SQL\n",
    "4. Java"
   ]
  },
  {
   "cell_type": "markdown",
   "id": "b56f018d-9a14-4ba8-bf6f-95379b4c2be7",
   "metadata": {},
   "source": [
    "Some of the commonly used libraries used by Data Scientists include:"
   ]
  },
  {
   "cell_type": "markdown",
   "id": "9a30e0af-7386-4e7c-9940-52b41ce9e412",
   "metadata": {},
   "source": [
    "1. TensorFlow\n",
    "2. NumPy\n",
    "3. SciPy\n",
    "4. Pandas"
   ]
  },
  {
   "cell_type": "markdown",
   "id": "b563177b-8cb2-44e0-9621-9bc8cb61d4a3",
   "metadata": {},
   "source": [
    "|Data Science Tools|\n",
    "|----------|\n",
    "| 1. RStudio |\n",
    "| 2. Apache Spark |\n",
    "| 3. Apache Hadoop |"
   ]
  },
  {
   "cell_type": "markdown",
   "id": "92cc66bb-26f8-43ea-bc45-e8dc26e836d4",
   "metadata": {},
   "source": [
    "### Below are a few examples of evaluating arithmetic expressions in Python"
   ]
  },
  {
   "cell_type": "markdown",
   "id": "bc3f65ea-2642-4e42-a891-4c77a07d8333",
   "metadata": {},
   "source": [
    "This a simple arithmetic expression to mutiply then add integers"
   ]
  },
  {
   "cell_type": "code",
   "execution_count": 11,
   "id": "479f2fa6-c12f-4606-b28f-73320e978994",
   "metadata": {
    "tags": []
   },
   "outputs": [
    {
     "name": "stdout",
     "output_type": "stream",
     "text": [
      "17\n"
     ]
    }
   ],
   "source": [
    "x = (3*4)+5\n",
    "print (x)"
   ]
  },
  {
   "cell_type": "markdown",
   "id": "f66cf71a-abe5-4c51-b686-ffc3a32eba0f",
   "metadata": {
    "tags": []
   },
   "source": [
    "This will convert 200 minutes to hours by diving by 60"
   ]
  },
  {
   "cell_type": "code",
   "execution_count": 13,
   "id": "b9ee5b7f-900b-48a0-971b-fc8e6d27e5a6",
   "metadata": {
    "tags": []
   },
   "outputs": [
    {
     "name": "stdout",
     "output_type": "stream",
     "text": [
      "3.3333333333333335\n"
     ]
    }
   ],
   "source": [
    "a = 200/60\n",
    "print (a)"
   ]
  },
  {
   "cell_type": "markdown",
   "id": "b97cb38d-d050-43df-9371-7aac4d272ce6",
   "metadata": {},
   "source": [
    "## Author"
   ]
  },
  {
   "cell_type": "markdown",
   "id": "cc7e9dbf-319f-42a1-9255-a45091ccc613",
   "metadata": {},
   "source": [
    "Shubhankar Sharma"
   ]
  },
  {
   "cell_type": "code",
   "execution_count": null,
   "id": "365e1260-570b-4fbe-9def-9599042fa96a",
   "metadata": {},
   "outputs": [],
   "source": []
  }
 ],
 "metadata": {
  "kernelspec": {
   "display_name": "Python 3 (ipykernel)",
   "language": "python",
   "name": "python3"
  },
  "language_info": {
   "codemirror_mode": {
    "name": "ipython",
    "version": 3
   },
   "file_extension": ".py",
   "mimetype": "text/x-python",
   "name": "python",
   "nbconvert_exporter": "python",
   "pygments_lexer": "ipython3",
   "version": "3.11.4"
  }
 },
 "nbformat": 4,
 "nbformat_minor": 5
}
